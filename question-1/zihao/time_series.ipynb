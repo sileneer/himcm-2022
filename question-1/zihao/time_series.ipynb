{
 "cells": [
  {
   "cell_type": "code",
   "execution_count": 1,
   "metadata": {
    "collapsed": true
   },
   "outputs": [],
   "source": [
    "import numpy as np\n",
    "import pandas as pd\n",
    "import matplotlib.pyplot as plt\n",
    "import tensorflow as tf\n",
    "import keras_tuner as kt"
   ]
  },
  {
   "cell_type": "code",
   "execution_count": 2,
   "outputs": [],
   "source": [
    "# Load the data\n",
    "df = pd.read_csv('data_co2.csv', names=['Year', 'PPM'], skiprows=1)"
   ],
   "metadata": {
    "collapsed": false
   }
  },
  {
   "cell_type": "code",
   "execution_count": 3,
   "outputs": [
    {
     "data": {
      "text/plain": "<Figure size 640x480 with 1 Axes>",
      "image/png": "[encoded data removed]"
     },
     "metadata": {},
     "output_type": "display_data"
    }
   ],
   "source": [
    "plt.plot(df['Year'], df['PPM'])\n",
    "plt.xlabel('Year')\n",
    "plt.ylabel('PPM')\n",
    "plt.title('Yearly PPM')\n",
    "plt.show()"
   ],
   "metadata": {
    "collapsed": false
   }
  },
  {
   "cell_type": "code",
   "execution_count": 4,
   "outputs": [
    {
     "data": {
      "text/plain": "array([[0.        ],\n       [0.00925649],\n       [0.01652234],\n       [0.02458445],\n       [0.02995919],\n       [0.03622972],\n       [0.04041007],\n       [0.05364786],\n       [0.06170996],\n       [0.07036926]])"
     },
     "execution_count": 4,
     "metadata": {},
     "output_type": "execute_result"
    }
   ],
   "source": [
    "df.drop('Year', axis=1, inplace=True)\n",
    "data = df.values\n",
    "\n",
    "\n",
    "def normalize(data, min, max):\n",
    "    return (data - min) / (max - min)\n",
    "\n",
    "\n",
    "data_normed = normalize(data, data.min(axis=0), data.max(axis=0))\n",
    "data_normed[:10]"
   ],
   "metadata": {
    "collapsed": false
   }
  },
  {
   "cell_type": "code",
   "execution_count": 5,
   "outputs": [],
   "source": [
    "split = int(0.8 * len(data_normed))\n",
    "train, val = data_normed[:split], data_normed[split:]\n",
    "\n",
    "\n",
    "def windowed_dataset(series, batch_size, n_past=10, n_future=10, shift=1):\n",
    "    '''\n",
    "    :param series: an iterable\n",
    "    :param batch_size: number of samples per batch\n",
    "    :param n_past: number of timesteps to look back (x or input to the model)\n",
    "    :param n_future: number of timesteps to predict (y or output of the model)\n",
    "    :param shift: number of timesteps to shift the window by, usually 1 if we want to maximise the use of data\n",
    "    :return:\n",
    "    '''\n",
    "    ds = tf.data.Dataset.from_tensor_slices(series)\n",
    "    ds = ds.window(size=n_past + n_future, shift=shift, drop_remainder=True)\n",
    "    ds = ds.flat_map(lambda w: w.batch(n_past + n_future))\n",
    "    ds = ds.map(lambda w: (w[:n_future], w[n_future:]))  # taking the past as x, future as y, split by n_past\n",
    "    ds.shuffle(8192)\n",
    "    return ds.batch(batch_size).prefetch(1)\n",
    "\n",
    "\n",
    "batch_size = 32  # explore how changing this affects the model (it is not as simple as larger batch size = better performance, lik ein image tasks)\n",
    "n_past = 5\n",
    "n_future = 5\n",
    "shift = 1\n",
    "\n",
    "train_ds = windowed_dataset(train, batch_size, n_past, n_future, shift)\n",
    "valid_ds = windowed_dataset(val, batch_size, n_past, n_future, shift)"
   ],
   "metadata": {
    "collapsed": false
   }
  },
  {
   "cell_type": "code",
   "execution_count": 6,
   "outputs": [
    {
     "data": {
      "text/plain": "array([[0.71324774],\n       [0.73773266],\n       [0.75515079],\n       [0.77714741],\n       [0.80382204],\n       [0.8244252 ],\n       [0.84632229],\n       [0.88016323],\n       [0.9035533 ],\n       [0.92306161],\n       [0.95232408],\n       [0.97800338],\n       [1.        ]])"
     },
     "execution_count": 6,
     "metadata": {},
     "output_type": "execute_result"
    }
   ],
   "source": [
    "val"
   ],
   "metadata": {
    "collapsed": false
   }
  },
  {
   "cell_type": "code",
   "execution_count": 29,
   "outputs": [
    {
     "name": "stdout",
     "output_type": "stream",
     "text": [
      "Model: \"model_2\"\n",
      "_________________________________________________________________\n",
      " Layer (type)                Output Shape              Param #   \n",
      "=================================================================\n",
      " input_3 (InputLayer)        [(None, 5, 1)]            0         \n",
      "                                                                 \n",
      " lstm_4 (LSTM)               (None, 5, 32)             4352      \n",
      "                                                                 \n",
      " lstm_5 (LSTM)               (None, 32)                8320      \n",
      "                                                                 \n",
      " dense_2 (Dense)             (None, 5)                 165       \n",
      "                                                                 \n",
      "=================================================================\n",
      "Total params: 12,837\n",
      "Trainable params: 12,837\n",
      "Non-trainable params: 0\n",
      "_________________________________________________________________\n"
     ]
    }
   ],
   "source": [
    "xIn = tf.keras.layers.Input(shape=(n_past,\n",
    "                                   1))  # 20 input, where first dimension is the number of timesteps to look back, 2nd dimension is the number of features\n",
    "x = tf.keras.layers.LSTM(32, return_sequences=True)(xIn)  # LSTM layer with 32 hidden units. Return\n",
    "x = tf.keras.layers.LSTM(32)(x)\n",
    "xOut = tf.keras.layers.Dense(n_future)(x)\n",
    "model = tf.keras.Model(inputs=xIn, outputs=xOut)\n",
    "model.compile(loss='mse', optimizer='adam', metrics='mse')\n",
    "model.summary()"
   ],
   "metadata": {
    "collapsed": false
   }
  },
  {
   "cell_type": "code",
   "execution_count": 30,
   "outputs": [
    {
     "name": "stdout",
     "output_type": "stream",
     "text": [
      "Epoch 1/100\n",
      "2/2 [==============================] - 7s 1s/step - loss: 0.1424 - mse: 0.1424 - val_loss: 0.8476 - val_mse: 0.8476\n",
      "Epoch 2/100\n",
      "2/2 [==============================] - 0s 53ms/step - loss: 0.1353 - mse: 0.1353 - val_loss: 0.8196 - val_mse: 0.8196\n",
      "Epoch 3/100\n",
      "2/2 [==============================] - 0s 58ms/step - loss: 0.1288 - mse: 0.1288 - val_loss: 0.7922 - val_mse: 0.7922\n",
      "Epoch 4/100\n",
      "2/2 [==============================] - 0s 50ms/step - loss: 0.1224 - mse: 0.1224 - val_loss: 0.7648 - val_mse: 0.7648\n",
      "Epoch 5/100\n",
      "2/2 [==============================] - 0s 51ms/step - loss: 0.1161 - mse: 0.1161 - val_loss: 0.7368 - val_mse: 0.7368\n",
      "Epoch 6/100\n",
      "2/2 [==============================] - 0s 52ms/step - loss: 0.1097 - mse: 0.1097 - val_loss: 0.7074 - val_mse: 0.7074\n",
      "Epoch 7/100\n",
      "2/2 [==============================] - 0s 60ms/step - loss: 0.1030 - mse: 0.1030 - val_loss: 0.6760 - val_mse: 0.6760\n",
      "Epoch 8/100\n",
      "2/2 [==============================] - 0s 54ms/step - loss: 0.0960 - mse: 0.0960 - val_loss: 0.6420 - val_mse: 0.6420\n",
      "Epoch 9/100\n",
      "2/2 [==============================] - 0s 52ms/step - loss: 0.0887 - mse: 0.0887 - val_loss: 0.6050 - val_mse: 0.6050\n",
      "Epoch 10/100\n",
      "2/2 [==============================] - 0s 58ms/step - loss: 0.0809 - mse: 0.0809 - val_loss: 0.5646 - val_mse: 0.5646\n",
      "Epoch 11/100\n",
      "2/2 [==============================] - 0s 57ms/step - loss: 0.0727 - mse: 0.0727 - val_loss: 0.5203 - val_mse: 0.5203\n",
      "Epoch 12/100\n",
      "2/2 [==============================] - 0s 57ms/step - loss: 0.0642 - mse: 0.0642 - val_loss: 0.4721 - val_mse: 0.4721\n",
      "Epoch 13/100\n",
      "2/2 [==============================] - 0s 61ms/step - loss: 0.0554 - mse: 0.0554 - val_loss: 0.4200 - val_mse: 0.4200\n",
      "Epoch 14/100\n",
      "2/2 [==============================] - 0s 56ms/step - loss: 0.0468 - mse: 0.0468 - val_loss: 0.3646 - val_mse: 0.3646\n",
      "Epoch 15/100\n",
      "2/2 [==============================] - 0s 78ms/step - loss: 0.0385 - mse: 0.0385 - val_loss: 0.3070 - val_mse: 0.3070\n",
      "Epoch 16/100\n",
      "2/2 [==============================] - 0s 58ms/step - loss: 0.0311 - mse: 0.0311 - val_loss: 0.2492 - val_mse: 0.2492\n",
      "Epoch 17/100\n",
      "2/2 [==============================] - 0s 62ms/step - loss: 0.0252 - mse: 0.0252 - val_loss: 0.1937 - val_mse: 0.1937\n",
      "Epoch 18/100\n",
      "2/2 [==============================] - 0s 62ms/step - loss: 0.0212 - mse: 0.0212 - val_loss: 0.1437 - val_mse: 0.1437\n",
      "Epoch 19/100\n",
      "2/2 [==============================] - 0s 61ms/step - loss: 0.0194 - mse: 0.0194 - val_loss: 0.1018 - val_mse: 0.1018\n",
      "Epoch 20/100\n",
      "2/2 [==============================] - 0s 56ms/step - loss: 0.0195 - mse: 0.0195 - val_loss: 0.0697 - val_mse: 0.0697\n",
      "Epoch 21/100\n",
      "2/2 [==============================] - 0s 53ms/step - loss: 0.0205 - mse: 0.0205 - val_loss: 0.0476 - val_mse: 0.0476\n",
      "Epoch 22/100\n",
      "2/2 [==============================] - 0s 59ms/step - loss: 0.0214 - mse: 0.0214 - val_loss: 0.0347 - val_mse: 0.0347\n",
      "Epoch 23/100\n",
      "2/2 [==============================] - 0s 61ms/step - loss: 0.0214 - mse: 0.0214 - val_loss: 0.0297 - val_mse: 0.0297\n",
      "Epoch 24/100\n",
      "2/2 [==============================] - 0s 60ms/step - loss: 0.0203 - mse: 0.0203 - val_loss: 0.0308 - val_mse: 0.0308\n",
      "Epoch 25/100\n",
      "2/2 [==============================] - 0s 80ms/step - loss: 0.0187 - mse: 0.0187 - val_loss: 0.0359 - val_mse: 0.0359\n",
      "Epoch 26/100\n",
      "2/2 [==============================] - 0s 61ms/step - loss: 0.0169 - mse: 0.0169 - val_loss: 0.0425 - val_mse: 0.0425\n",
      "Epoch 27/100\n",
      "2/2 [==============================] - 0s 64ms/step - loss: 0.0154 - mse: 0.0154 - val_loss: 0.0485 - val_mse: 0.0485\n",
      "Epoch 28/100\n",
      "2/2 [==============================] - 0s 103ms/step - loss: 0.0140 - mse: 0.0140 - val_loss: 0.0525 - val_mse: 0.0525\n",
      "Epoch 29/100\n",
      "2/2 [==============================] - 0s 81ms/step - loss: 0.0129 - mse: 0.0129 - val_loss: 0.0538 - val_mse: 0.0538\n",
      "Epoch 30/100\n",
      "2/2 [==============================] - 0s 68ms/step - loss: 0.0119 - mse: 0.0119 - val_loss: 0.0526 - val_mse: 0.0526\n",
      "Epoch 31/100\n",
      "2/2 [==============================] - 0s 66ms/step - loss: 0.0111 - mse: 0.0111 - val_loss: 0.0493 - val_mse: 0.0493\n",
      "Epoch 32/100\n",
      "2/2 [==============================] - 0s 62ms/step - loss: 0.0105 - mse: 0.0105 - val_loss: 0.0447 - val_mse: 0.0447\n",
      "Epoch 33/100\n",
      "2/2 [==============================] - 0s 63ms/step - loss: 0.0101 - mse: 0.0101 - val_loss: 0.0395 - val_mse: 0.0395\n",
      "Epoch 34/100\n",
      "2/2 [==============================] - 0s 59ms/step - loss: 0.0098 - mse: 0.0098 - val_loss: 0.0344 - val_mse: 0.0344\n",
      "Epoch 35/100\n",
      "2/2 [==============================] - 0s 56ms/step - loss: 0.0096 - mse: 0.0096 - val_loss: 0.0298 - val_mse: 0.0298\n",
      "Epoch 36/100\n",
      "2/2 [==============================] - 0s 58ms/step - loss: 0.0094 - mse: 0.0094 - val_loss: 0.0260 - val_mse: 0.0260\n",
      "Epoch 37/100\n",
      "2/2 [==============================] - 0s 55ms/step - loss: 0.0091 - mse: 0.0091 - val_loss: 0.0229 - val_mse: 0.0229\n",
      "Epoch 38/100\n",
      "2/2 [==============================] - 0s 53ms/step - loss: 0.0088 - mse: 0.0088 - val_loss: 0.0206 - val_mse: 0.0206\n",
      "Epoch 39/100\n",
      "2/2 [==============================] - 0s 58ms/step - loss: 0.0084 - mse: 0.0084 - val_loss: 0.0189 - val_mse: 0.0189\n",
      "Epoch 40/100\n",
      "2/2 [==============================] - 0s 74ms/step - loss: 0.0079 - mse: 0.0079 - val_loss: 0.0176 - val_mse: 0.0176\n",
      "Epoch 41/100\n",
      "2/2 [==============================] - 0s 57ms/step - loss: 0.0073 - mse: 0.0073 - val_loss: 0.0166 - val_mse: 0.0166\n",
      "Epoch 42/100\n",
      "2/2 [==============================] - 0s 55ms/step - loss: 0.0068 - mse: 0.0068 - val_loss: 0.0155 - val_mse: 0.0155\n",
      "Epoch 43/100\n",
      "2/2 [==============================] - 0s 99ms/step - loss: 0.0064 - mse: 0.0064 - val_loss: 0.0143 - val_mse: 0.0143\n",
      "Epoch 44/100\n",
      "2/2 [==============================] - 0s 57ms/step - loss: 0.0060 - mse: 0.0060 - val_loss: 0.0129 - val_mse: 0.0129\n",
      "Epoch 45/100\n",
      "2/2 [==============================] - 0s 59ms/step - loss: 0.0056 - mse: 0.0056 - val_loss: 0.0113 - val_mse: 0.0113\n",
      "Epoch 46/100\n",
      "2/2 [==============================] - 0s 58ms/step - loss: 0.0053 - mse: 0.0053 - val_loss: 0.0096 - val_mse: 0.0096\n",
      "Epoch 47/100\n",
      "2/2 [==============================] - 0s 63ms/step - loss: 0.0049 - mse: 0.0049 - val_loss: 0.0080 - val_mse: 0.0080\n",
      "Epoch 48/100\n",
      "2/2 [==============================] - 0s 64ms/step - loss: 0.0046 - mse: 0.0046 - val_loss: 0.0066 - val_mse: 0.0066\n",
      "Epoch 49/100\n",
      "2/2 [==============================] - 0s 62ms/step - loss: 0.0044 - mse: 0.0044 - val_loss: 0.0054 - val_mse: 0.0054\n",
      "Epoch 50/100\n",
      "2/2 [==============================] - 0s 65ms/step - loss: 0.0041 - mse: 0.0041 - val_loss: 0.0045 - val_mse: 0.0045\n",
      "Epoch 51/100\n",
      "2/2 [==============================] - 0s 53ms/step - loss: 0.0038 - mse: 0.0038 - val_loss: 0.0038 - val_mse: 0.0038\n",
      "Epoch 52/100\n",
      "2/2 [==============================] - 0s 54ms/step - loss: 0.0036 - mse: 0.0036 - val_loss: 0.0033 - val_mse: 0.0033\n",
      "Epoch 53/100\n",
      "2/2 [==============================] - 0s 71ms/step - loss: 0.0033 - mse: 0.0033 - val_loss: 0.0029 - val_mse: 0.0029\n",
      "Epoch 54/100\n",
      "2/2 [==============================] - 0s 57ms/step - loss: 0.0030 - mse: 0.0030 - val_loss: 0.0025 - val_mse: 0.0025\n",
      "Epoch 55/100\n",
      "2/2 [==============================] - 0s 57ms/step - loss: 0.0028 - mse: 0.0028 - val_loss: 0.0021 - val_mse: 0.0021\n",
      "Epoch 56/100\n",
      "2/2 [==============================] - 0s 57ms/step - loss: 0.0025 - mse: 0.0025 - val_loss: 0.0018 - val_mse: 0.0018\n",
      "Epoch 57/100\n",
      "2/2 [==============================] - 0s 62ms/step - loss: 0.0023 - mse: 0.0023 - val_loss: 0.0015 - val_mse: 0.0015\n",
      "Epoch 58/100\n",
      "2/2 [==============================] - 0s 60ms/step - loss: 0.0022 - mse: 0.0022 - val_loss: 0.0013 - val_mse: 0.0013\n",
      "Epoch 59/100\n",
      "2/2 [==============================] - 0s 57ms/step - loss: 0.0020 - mse: 0.0020 - val_loss: 0.0012 - val_mse: 0.0012\n",
      "Epoch 60/100\n",
      "2/2 [==============================] - 0s 54ms/step - loss: 0.0018 - mse: 0.0018 - val_loss: 0.0012 - val_mse: 0.0012\n",
      "Epoch 61/100\n",
      "2/2 [==============================] - 0s 50ms/step - loss: 0.0017 - mse: 0.0017 - val_loss: 0.0013 - val_mse: 0.0013\n",
      "Epoch 62/100\n",
      "2/2 [==============================] - 0s 52ms/step - loss: 0.0016 - mse: 0.0016 - val_loss: 0.0015 - val_mse: 0.0015\n",
      "Epoch 63/100\n",
      "2/2 [==============================] - 0s 59ms/step - loss: 0.0015 - mse: 0.0015 - val_loss: 0.0017 - val_mse: 0.0017\n",
      "Epoch 64/100\n",
      "2/2 [==============================] - 0s 57ms/step - loss: 0.0014 - mse: 0.0014 - val_loss: 0.0019 - val_mse: 0.0019\n",
      "Epoch 65/100\n",
      "2/2 [==============================] - 0s 52ms/step - loss: 0.0013 - mse: 0.0013 - val_loss: 0.0022 - val_mse: 0.0022\n",
      "Epoch 66/100\n",
      "2/2 [==============================] - 0s 52ms/step - loss: 0.0012 - mse: 0.0012 - val_loss: 0.0025 - val_mse: 0.0025\n",
      "Epoch 67/100\n",
      "2/2 [==============================] - 0s 51ms/step - loss: 0.0011 - mse: 0.0011 - val_loss: 0.0028 - val_mse: 0.0028\n",
      "Epoch 68/100\n",
      "2/2 [==============================] - 0s 60ms/step - loss: 0.0010 - mse: 0.0010 - val_loss: 0.0031 - val_mse: 0.0031\n",
      "Epoch 69/100\n",
      "2/2 [==============================] - 0s 56ms/step - loss: 9.5455e-04 - mse: 9.5455e-04 - val_loss: 0.0035 - val_mse: 0.0035\n",
      "Epoch 70/100\n",
      "2/2 [==============================] - 0s 54ms/step - loss: 8.9865e-04 - mse: 8.9865e-04 - val_loss: 0.0039 - val_mse: 0.0039\n",
      "Epoch 71/100\n",
      "2/2 [==============================] - 0s 55ms/step - loss: 8.4990e-04 - mse: 8.4990e-04 - val_loss: 0.0043 - val_mse: 0.0043\n",
      "Epoch 72/100\n",
      "2/2 [==============================] - 0s 53ms/step - loss: 8.0732e-04 - mse: 8.0732e-04 - val_loss: 0.0047 - val_mse: 0.0047\n",
      "Epoch 73/100\n",
      "2/2 [==============================] - 0s 50ms/step - loss: 7.7005e-04 - mse: 7.7005e-04 - val_loss: 0.0050 - val_mse: 0.0050\n",
      "Epoch 74/100\n",
      "2/2 [==============================] - 0s 75ms/step - loss: 7.3739e-04 - mse: 7.3739e-04 - val_loss: 0.0054 - val_mse: 0.0054\n",
      "Epoch 75/100\n",
      "2/2 [==============================] - 0s 53ms/step - loss: 7.0881e-04 - mse: 7.0881e-04 - val_loss: 0.0056 - val_mse: 0.0056\n",
      "Epoch 76/100\n",
      "2/2 [==============================] - 0s 53ms/step - loss: 6.8388e-04 - mse: 6.8388e-04 - val_loss: 0.0059 - val_mse: 0.0059\n",
      "Epoch 77/100\n",
      "2/2 [==============================] - 0s 55ms/step - loss: 6.6215e-04 - mse: 6.6215e-04 - val_loss: 0.0061 - val_mse: 0.0061\n",
      "Epoch 78/100\n",
      "2/2 [==============================] - 0s 55ms/step - loss: 6.4314e-04 - mse: 6.4314e-04 - val_loss: 0.0063 - val_mse: 0.0063\n",
      "Epoch 79/100\n",
      "2/2 [==============================] - 0s 52ms/step - loss: 6.2633e-04 - mse: 6.2633e-04 - val_loss: 0.0065 - val_mse: 0.0065\n",
      "Epoch 80/100\n",
      "2/2 [==============================] - 0s 60ms/step - loss: 6.1130e-04 - mse: 6.1130e-04 - val_loss: 0.0067 - val_mse: 0.0067\n",
      "Epoch 81/100\n",
      "2/2 [==============================] - 0s 65ms/step - loss: 5.9770e-04 - mse: 5.9770e-04 - val_loss: 0.0069 - val_mse: 0.0069\n",
      "Epoch 82/100\n",
      "2/2 [==============================] - 0s 65ms/step - loss: 5.8533e-04 - mse: 5.8533e-04 - val_loss: 0.0071 - val_mse: 0.0071\n",
      "Epoch 83/100\n",
      "2/2 [==============================] - 0s 59ms/step - loss: 5.7407e-04 - mse: 5.7407e-04 - val_loss: 0.0072 - val_mse: 0.0072\n",
      "Epoch 84/100\n",
      "2/2 [==============================] - 0s 60ms/step - loss: 5.6383e-04 - mse: 5.6383e-04 - val_loss: 0.0073 - val_mse: 0.0073\n",
      "Epoch 85/100\n",
      "2/2 [==============================] - 0s 74ms/step - loss: 5.5455e-04 - mse: 5.5455e-04 - val_loss: 0.0073 - val_mse: 0.0073\n",
      "Epoch 86/100\n",
      "2/2 [==============================] - 0s 97ms/step - loss: 5.4612e-04 - mse: 5.4612e-04 - val_loss: 0.0074 - val_mse: 0.0074\n",
      "Epoch 87/100\n",
      "2/2 [==============================] - 0s 68ms/step - loss: 5.3841e-04 - mse: 5.3841e-04 - val_loss: 0.0074 - val_mse: 0.0074\n",
      "Epoch 88/100\n",
      "2/2 [==============================] - 0s 65ms/step - loss: 5.3127e-04 - mse: 5.3127e-04 - val_loss: 0.0074 - val_mse: 0.0074\n",
      "Epoch 89/100\n",
      "2/2 [==============================] - 0s 65ms/step - loss: 5.2459e-04 - mse: 5.2459e-04 - val_loss: 0.0074 - val_mse: 0.0074\n",
      "Epoch 90/100\n",
      "2/2 [==============================] - 0s 59ms/step - loss: 5.1828e-04 - mse: 5.1828e-04 - val_loss: 0.0074 - val_mse: 0.0074\n",
      "Epoch 91/100\n",
      "2/2 [==============================] - 0s 59ms/step - loss: 5.1230e-04 - mse: 5.1230e-04 - val_loss: 0.0074 - val_mse: 0.0074\n",
      "Epoch 92/100\n",
      "2/2 [==============================] - 0s 57ms/step - loss: 5.0664e-04 - mse: 5.0664e-04 - val_loss: 0.0074 - val_mse: 0.0074\n",
      "Epoch 93/100\n",
      "2/2 [==============================] - 0s 54ms/step - loss: 5.0129e-04 - mse: 5.0129e-04 - val_loss: 0.0073 - val_mse: 0.0073\n",
      "Epoch 94/100\n",
      "2/2 [==============================] - 0s 65ms/step - loss: 4.9627e-04 - mse: 4.9627e-04 - val_loss: 0.0073 - val_mse: 0.0073\n",
      "Epoch 95/100\n",
      "2/2 [==============================] - 0s 56ms/step - loss: 4.9153e-04 - mse: 4.9153e-04 - val_loss: 0.0072 - val_mse: 0.0072\n",
      "Epoch 96/100\n",
      "2/2 [==============================] - 0s 58ms/step - loss: 4.8704e-04 - mse: 4.8704e-04 - val_loss: 0.0072 - val_mse: 0.0072\n",
      "Epoch 97/100\n",
      "2/2 [==============================] - 0s 57ms/step - loss: 4.8277e-04 - mse: 4.8277e-04 - val_loss: 0.0071 - val_mse: 0.0071\n",
      "Epoch 98/100\n",
      "2/2 [==============================] - 0s 54ms/step - loss: 4.7866e-04 - mse: 4.7866e-04 - val_loss: 0.0070 - val_mse: 0.0070\n",
      "Epoch 99/100\n",
      "2/2 [==============================] - 0s 54ms/step - loss: 4.7470e-04 - mse: 4.7470e-04 - val_loss: 0.0070 - val_mse: 0.0070\n",
      "Epoch 100/100\n",
      "2/2 [==============================] - 0s 66ms/step - loss: 4.7088e-04 - mse: 4.7088e-04 - val_loss: 0.0069 - val_mse: 0.0069\n"
     ]
    },
    {
     "data": {
      "text/plain": "<keras.callbacks.History at 0x261efb8c550>"
     },
     "execution_count": 30,
     "metadata": {},
     "output_type": "execute_result"
    }
   ],
   "source": [
    "model.fit(train_ds, epochs=100, validation_data=valid_ds)"
   ],
   "metadata": {
    "collapsed": false
   }
  },
  {
   "cell_type": "code",
   "execution_count": 31,
   "outputs": [
    {
     "name": "stdout",
     "output_type": "stream",
     "text": [
      "1/1 [==============================] - 1s 1s/step\n"
     ]
    },
    {
     "data": {
      "text/plain": "array([0.8760243 , 0.95127904, 0.92459995, 0.97731155, 1.0065626 ],\n      dtype=float32)"
     },
     "execution_count": 31,
     "metadata": {},
     "output_type": "execute_result"
    }
   ],
   "source": [
    "preds = model.predict(valid_ds)\n",
    "preds[0]"
   ],
   "metadata": {
    "collapsed": false
   }
  },
  {
   "cell_type": "code",
   "execution_count": 32,
   "outputs": [
    {
     "data": {
      "text/plain": "array([403.99416201, 411.55500557, 408.87455653, 414.17049159,\n       417.10934348])"
     },
     "execution_count": 32,
     "metadata": {},
     "output_type": "execute_result"
    }
   ],
   "source": [
    "def unnormalize(data, min, max):\n",
    "    return data * (max - min) + min\n",
    "\n",
    "\n",
    "preds_unnormed = unnormalize(preds, data.min(axis=0), data.max(axis=0))\n",
    "preds_unnormed[0]"
   ],
   "metadata": {
    "collapsed": false
   }
  },
  {
   "cell_type": "code",
   "execution_count": 33,
   "outputs": [
    {
     "name": "stdout",
     "output_type": "stream",
     "text": [
      "(4, 5)\n",
      "[403.99416201 406.71941085 409.31456599 412.18558039]\n",
      "(4,)\n"
     ]
    }
   ],
   "source": [
    "print(preds_unnormed.shape)\n",
    "print(preds_unnormed[:, 0])\n",
    "print(preds_unnormed[:, 0].shape)"
   ],
   "metadata": {
    "collapsed": false
   }
  },
  {
   "cell_type": "code",
   "execution_count": 34,
   "outputs": [
    {
     "data": {
      "text/plain": "<Figure size 640x480 with 1 Axes>",
      "image/png": "[encoded data removed]"
     },
     "metadata": {},
     "output_type": "display_data"
    }
   ],
   "source": [
    "plt.plot(unnormalize(val, data.min(axis=0), data.max(axis=0)),\n",
    "         label='actual')  # our val was taken as subset of the normaized data so we need to unnormalize it here\n",
    "plt.plot(preds_unnormed[:, 0], label='prediction')\n",
    "plt.legend()\n",
    "plt.title('Yearly PPM')\n",
    "plt.show()"
   ],
   "metadata": {
    "collapsed": false
   }
  }
 ],
 "metadata": {
  "kernelspec": {
   "display_name": "Python 3",
   "language": "python",
   "name": "python3"
  },
  "language_info": {
   "codemirror_mode": {
    "name": "ipython",
    "version": 2
   },
   "file_extension": ".py",
   "mimetype": "text/x-python",
   "name": "python",
   "nbconvert_exporter": "python",
   "pygments_lexer": "ipython2",
   "version": "2.7.6"
  }
 },
 "nbformat": 4,
 "nbformat_minor": 0
}
