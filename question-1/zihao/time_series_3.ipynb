{
 "cells": [
  {
   "cell_type": "code",
   "execution_count": 272,
   "outputs": [],
   "source": [
    "import numpy as np\n",
    "import pandas as pd\n",
    "import matplotlib.pyplot as plt\n",
    "import tensorflow as tf\n",
    "import keras_tuner as kt"
   ],
   "metadata": {
    "collapsed": false
   }
  },
  {
   "cell_type": "code",
   "execution_count": 273,
   "outputs": [],
   "source": [
    "# Load the data\n",
    "df = pd.read_csv('data_co2.csv', names=['Year', 'PPM'], skiprows=1)"
   ],
   "metadata": {
    "collapsed": false
   }
  },
  {
   "cell_type": "code",
   "execution_count": 274,
   "outputs": [
    {
     "data": {
      "text/plain": "<Figure size 640x480 with 1 Axes>",
      "image/png": "[encoded data removed]"
     },
     "metadata": {},
     "output_type": "display_data"
    }
   ],
   "source": [
    "plt.plot(df['Year'], df['PPM'])\n",
    "plt.xlabel('Year')\n",
    "plt.ylabel('PPM')\n",
    "plt.title('PPM')\n",
    "plt.show()"
   ],
   "metadata": {
    "collapsed": false
   }
  },
  {
   "cell_type": "code",
   "execution_count": 275,
   "outputs": [
    {
     "data": {
      "text/plain": "array([[0.        ],\n       [0.00925649],\n       [0.01652234],\n       [0.02458445],\n       [0.02995919],\n       [0.03622972],\n       [0.04041007],\n       [0.05364786],\n       [0.06170996],\n       [0.07036926]])"
     },
     "execution_count": 275,
     "metadata": {},
     "output_type": "execute_result"
    }
   ],
   "source": [
    "df.drop('Year', axis=1, inplace=True)\n",
    "data = df.values\n",
    "\n",
    "\n",
    "def normalize(data, min, max):\n",
    "    data = data - min\n",
    "    data = data / (max - min)\n",
    "    return data\n",
    "\n",
    "\n",
    "def unnormalize(data, min, max):\n",
    "    data = data * (max - min)\n",
    "    data = data + min\n",
    "    return data\n",
    "\n",
    "\n",
    "data_normed = normalize(data, data.min(axis=0), data.max(axis=0))\n",
    "data_normed[:10]"
   ],
   "metadata": {
    "collapsed": false
   }
  },
  {
   "cell_type": "code",
   "execution_count": 276,
   "outputs": [],
   "source": [
    "split = int(0.8 * len(data_normed))\n",
    "train, val = data_normed[:split], data_normed[split:]\n",
    "\n",
    "\n",
    "def windowed_dataset(series, batch_size, n_past=10, n_future=10, shift=1):\n",
    "    '''\n",
    "    :param series: an iterable\n",
    "    :param batch_size: number of samples per batch\n",
    "    :param n_past: number of timesteps to look back (x or input to the model)\n",
    "    :param n_future: number of timesteps to predict (y or output of the model)\n",
    "    :param shift: number of timesteps to shift the window by, usually 1 if we want to maximise the use of data\n",
    "    :return:\n",
    "    '''\n",
    "    ds = tf.data.Dataset.from_tensor_slices(series)\n",
    "    ds = ds.window(size=n_past + n_future, shift=shift, drop_remainder=True)\n",
    "    ds = ds.flat_map(lambda w: w.batch(n_past + n_future))\n",
    "    ds = ds.map(lambda w: (w[:n_future], w[n_future:]))  # taking the past as x, future as y, split by n_past\n",
    "    ds.shuffle(8192)\n",
    "    return ds.batch(batch_size).prefetch(1)\n",
    "\n",
    "\n",
    "batch_size = 32  # explore how changing this affects the model (it is not as simple as larger batch size = better performance, lik ein image tasks)\n",
    "n_past = 5\n",
    "n_future = 5\n",
    "shift = 1\n",
    "\n",
    "train_ds = windowed_dataset(train, batch_size, n_past, n_future, shift)\n",
    "valid_ds = windowed_dataset(val, batch_size, n_past, n_future, shift)"
   ],
   "metadata": {
    "collapsed": false
   }
  },
  {
   "cell_type": "code",
   "execution_count": 277,
   "outputs": [
    {
     "name": "stdout",
     "output_type": "stream",
     "text": [
      "<PrefetchDataset element_spec=(TensorSpec(shape=(None, None, 1), dtype=tf.float64, name=None), TensorSpec(shape=(None, None, 1), dtype=tf.float64, name=None))>\n"
     ]
    }
   ],
   "source": [
    "print(train_ds)"
   ],
   "metadata": {
    "collapsed": false
   }
  },
  {
   "cell_type": "code",
   "execution_count": 278,
   "outputs": [
    {
     "name": "stdout",
     "output_type": "stream",
     "text": [
      "Model: \"model_18\"\n",
      "_________________________________________________________________\n",
      " Layer (type)                Output Shape              Param #   \n",
      "=================================================================\n",
      " input_20 (InputLayer)       [(None, 5, 1)]            0         \n",
      "                                                                 \n",
      " lstm_38 (LSTM)              (None, 5, 32)             4352      \n",
      "                                                                 \n",
      " lstm_39 (LSTM)              (None, 32)                8320      \n",
      "                                                                 \n",
      " dense_18 (Dense)            (None, 32)                1056      \n",
      "                                                                 \n",
      " dense_19 (Dense)            (None, 5)                 165       \n",
      "                                                                 \n",
      "=================================================================\n",
      "Total params: 13,893\n",
      "Trainable params: 13,893\n",
      "Non-trainable params: 0\n",
      "_________________________________________________________________\n"
     ]
    }
   ],
   "source": [
    "xIn = tf.keras.layers.Input(shape=(n_past,\n",
    "                                   1))  # 20 input, where first dimension is the number of timesteps to look back, 2nd dimension is the number of features\n",
    "x = tf.keras.layers.LSTM(32, return_sequences=True)(xIn)  # LSTM layer with 32 hidden units. Return\n",
    "x = tf.keras.layers.LSTM(32)(x)\n",
    "x = tf.keras.layers.Dense(32)(x)\n",
    "xOut = tf.keras.layers.Dense(n_future)(x)\n",
    "model = tf.keras.Model(inputs=xIn, outputs=xOut)\n",
    "model.compile(loss='mse', optimizer='adam', metrics='mse')\n",
    "model.summary()"
   ],
   "metadata": {
    "collapsed": false
   }
  },
  {
   "cell_type": "code",
   "execution_count": 279,
   "outputs": [
    {
     "name": "stdout",
     "output_type": "stream",
     "text": [
      "Epoch 1/100\n",
      "2/2 [==============================] - 8s 2s/step - loss: 0.1266 - mse: 0.1266 - val_loss: 0.7368 - val_mse: 0.7368\n",
      "Epoch 2/100\n",
      "2/2 [==============================] - 0s 143ms/step - loss: 0.1162 - mse: 0.1162 - val_loss: 0.6941 - val_mse: 0.6941\n",
      "Epoch 3/100\n",
      "2/2 [==============================] - 0s 88ms/step - loss: 0.1059 - mse: 0.1059 - val_loss: 0.6490 - val_mse: 0.6490\n",
      "Epoch 4/100\n",
      "2/2 [==============================] - 0s 84ms/step - loss: 0.0954 - mse: 0.0954 - val_loss: 0.6006 - val_mse: 0.6006\n",
      "Epoch 5/100\n",
      "2/2 [==============================] - 0s 167ms/step - loss: 0.0846 - mse: 0.0846 - val_loss: 0.5485 - val_mse: 0.5485\n",
      "Epoch 6/100\n",
      "2/2 [==============================] - 0s 88ms/step - loss: 0.0734 - mse: 0.0734 - val_loss: 0.4921 - val_mse: 0.4921\n",
      "Epoch 7/100\n",
      "2/2 [==============================] - 0s 111ms/step - loss: 0.0619 - mse: 0.0619 - val_loss: 0.4311 - val_mse: 0.4311\n",
      "Epoch 8/100\n",
      "2/2 [==============================] - 0s 98ms/step - loss: 0.0502 - mse: 0.0502 - val_loss: 0.3661 - val_mse: 0.3661\n",
      "Epoch 9/100\n",
      "2/2 [==============================] - 0s 75ms/step - loss: 0.0389 - mse: 0.0389 - val_loss: 0.2980 - val_mse: 0.2980\n",
      "Epoch 10/100\n",
      "2/2 [==============================] - 0s 61ms/step - loss: 0.0285 - mse: 0.0285 - val_loss: 0.2294 - val_mse: 0.2294\n",
      "Epoch 11/100\n",
      "2/2 [==============================] - 0s 67ms/step - loss: 0.0200 - mse: 0.0200 - val_loss: 0.1639 - val_mse: 0.1639\n",
      "Epoch 12/100\n",
      "2/2 [==============================] - 0s 67ms/step - loss: 0.0144 - mse: 0.0144 - val_loss: 0.1067 - val_mse: 0.1067\n",
      "Epoch 13/100\n",
      "2/2 [==============================] - 0s 61ms/step - loss: 0.0126 - mse: 0.0126 - val_loss: 0.0628 - val_mse: 0.0628\n",
      "Epoch 14/100\n",
      "2/2 [==============================] - 0s 64ms/step - loss: 0.0146 - mse: 0.0146 - val_loss: 0.0339 - val_mse: 0.0339\n",
      "Epoch 15/100\n",
      "2/2 [==============================] - 0s 61ms/step - loss: 0.0184 - mse: 0.0184 - val_loss: 0.0176 - val_mse: 0.0176\n",
      "Epoch 16/100\n",
      "2/2 [==============================] - 0s 66ms/step - loss: 0.0212 - mse: 0.0212 - val_loss: 0.0101 - val_mse: 0.0101\n",
      "Epoch 17/100\n",
      "2/2 [==============================] - 0s 64ms/step - loss: 0.0211 - mse: 0.0211 - val_loss: 0.0095 - val_mse: 0.0095\n",
      "Epoch 18/100\n",
      "2/2 [==============================] - 0s 62ms/step - loss: 0.0188 - mse: 0.0188 - val_loss: 0.0155 - val_mse: 0.0155\n",
      "Epoch 19/100\n",
      "2/2 [==============================] - 0s 62ms/step - loss: 0.0159 - mse: 0.0159 - val_loss: 0.0261 - val_mse: 0.0261\n",
      "Epoch 20/100\n",
      "2/2 [==============================] - 0s 60ms/step - loss: 0.0136 - mse: 0.0136 - val_loss: 0.0379 - val_mse: 0.0379\n",
      "Epoch 21/100\n",
      "2/2 [==============================] - 0s 59ms/step - loss: 0.0120 - mse: 0.0120 - val_loss: 0.0475 - val_mse: 0.0475\n",
      "Epoch 22/100\n",
      "2/2 [==============================] - 0s 63ms/step - loss: 0.0109 - mse: 0.0109 - val_loss: 0.0526 - val_mse: 0.0526\n",
      "Epoch 23/100\n",
      "2/2 [==============================] - 0s 61ms/step - loss: 0.0101 - mse: 0.0101 - val_loss: 0.0528 - val_mse: 0.0528\n",
      "Epoch 24/100\n",
      "2/2 [==============================] - 0s 57ms/step - loss: 0.0093 - mse: 0.0093 - val_loss: 0.0489 - val_mse: 0.0489\n",
      "Epoch 25/100\n",
      "2/2 [==============================] - 0s 63ms/step - loss: 0.0086 - mse: 0.0086 - val_loss: 0.0421 - val_mse: 0.0421\n",
      "Epoch 26/100\n",
      "2/2 [==============================] - 0s 61ms/step - loss: 0.0080 - mse: 0.0080 - val_loss: 0.0342 - val_mse: 0.0342\n",
      "Epoch 27/100\n",
      "2/2 [==============================] - 0s 61ms/step - loss: 0.0076 - mse: 0.0076 - val_loss: 0.0267 - val_mse: 0.0267\n",
      "Epoch 28/100\n",
      "2/2 [==============================] - 0s 62ms/step - loss: 0.0075 - mse: 0.0075 - val_loss: 0.0205 - val_mse: 0.0205\n",
      "Epoch 29/100\n",
      "2/2 [==============================] - 0s 62ms/step - loss: 0.0076 - mse: 0.0076 - val_loss: 0.0162 - val_mse: 0.0162\n",
      "Epoch 30/100\n",
      "2/2 [==============================] - 0s 66ms/step - loss: 0.0077 - mse: 0.0077 - val_loss: 0.0136 - val_mse: 0.0136\n",
      "Epoch 31/100\n",
      "2/2 [==============================] - 0s 65ms/step - loss: 0.0075 - mse: 0.0075 - val_loss: 0.0123 - val_mse: 0.0123\n",
      "Epoch 32/100\n",
      "2/2 [==============================] - 0s 62ms/step - loss: 0.0072 - mse: 0.0072 - val_loss: 0.0120 - val_mse: 0.0120\n",
      "Epoch 33/100\n",
      "2/2 [==============================] - 0s 60ms/step - loss: 0.0066 - mse: 0.0066 - val_loss: 0.0122 - val_mse: 0.0122\n",
      "Epoch 34/100\n",
      "2/2 [==============================] - 0s 64ms/step - loss: 0.0059 - mse: 0.0059 - val_loss: 0.0125 - val_mse: 0.0125\n",
      "Epoch 35/100\n",
      "2/2 [==============================] - 0s 62ms/step - loss: 0.0053 - mse: 0.0053 - val_loss: 0.0125 - val_mse: 0.0125\n",
      "Epoch 36/100\n",
      "2/2 [==============================] - 0s 68ms/step - loss: 0.0047 - mse: 0.0047 - val_loss: 0.0120 - val_mse: 0.0120\n",
      "Epoch 37/100\n",
      "2/2 [==============================] - 0s 81ms/step - loss: 0.0043 - mse: 0.0043 - val_loss: 0.0107 - val_mse: 0.0107\n",
      "Epoch 38/100\n",
      "2/2 [==============================] - 0s 75ms/step - loss: 0.0039 - mse: 0.0039 - val_loss: 0.0089 - val_mse: 0.0089\n",
      "Epoch 39/100\n",
      "2/2 [==============================] - 0s 76ms/step - loss: 0.0036 - mse: 0.0036 - val_loss: 0.0068 - val_mse: 0.0068\n",
      "Epoch 40/100\n",
      "2/2 [==============================] - 0s 83ms/step - loss: 0.0033 - mse: 0.0033 - val_loss: 0.0048 - val_mse: 0.0048\n",
      "Epoch 41/100\n",
      "2/2 [==============================] - 0s 78ms/step - loss: 0.0032 - mse: 0.0032 - val_loss: 0.0032 - val_mse: 0.0032\n",
      "Epoch 42/100\n",
      "2/2 [==============================] - 0s 79ms/step - loss: 0.0030 - mse: 0.0030 - val_loss: 0.0021 - val_mse: 0.0021\n",
      "Epoch 43/100\n",
      "2/2 [==============================] - 0s 69ms/step - loss: 0.0028 - mse: 0.0028 - val_loss: 0.0014 - val_mse: 0.0014\n",
      "Epoch 44/100\n",
      "2/2 [==============================] - 0s 72ms/step - loss: 0.0026 - mse: 0.0026 - val_loss: 0.0010 - val_mse: 0.0010\n",
      "Epoch 45/100\n",
      "2/2 [==============================] - 0s 73ms/step - loss: 0.0023 - mse: 0.0023 - val_loss: 8.2840e-04 - val_mse: 8.2840e-04\n",
      "Epoch 46/100\n",
      "2/2 [==============================] - 0s 71ms/step - loss: 0.0021 - mse: 0.0021 - val_loss: 7.2640e-04 - val_mse: 7.2640e-04\n",
      "Epoch 47/100\n",
      "2/2 [==============================] - 0s 70ms/step - loss: 0.0018 - mse: 0.0018 - val_loss: 6.6072e-04 - val_mse: 6.6072e-04\n",
      "Epoch 48/100\n",
      "2/2 [==============================] - 0s 72ms/step - loss: 0.0016 - mse: 0.0016 - val_loss: 6.1463e-04 - val_mse: 6.1463e-04\n",
      "Epoch 49/100\n",
      "2/2 [==============================] - 0s 66ms/step - loss: 0.0014 - mse: 0.0014 - val_loss: 6.0573e-04 - val_mse: 6.0573e-04\n",
      "Epoch 50/100\n",
      "2/2 [==============================] - 0s 70ms/step - loss: 0.0013 - mse: 0.0013 - val_loss: 6.7736e-04 - val_mse: 6.7736e-04\n",
      "Epoch 51/100\n",
      "2/2 [==============================] - 0s 68ms/step - loss: 0.0011 - mse: 0.0011 - val_loss: 8.6923e-04 - val_mse: 8.6923e-04\n",
      "Epoch 52/100\n",
      "2/2 [==============================] - 0s 67ms/step - loss: 0.0010 - mse: 0.0010 - val_loss: 0.0012 - val_mse: 0.0012\n",
      "Epoch 53/100\n",
      "2/2 [==============================] - 0s 77ms/step - loss: 9.4088e-04 - mse: 9.4088e-04 - val_loss: 0.0016 - val_mse: 0.0016\n",
      "Epoch 54/100\n",
      "2/2 [==============================] - 0s 70ms/step - loss: 8.5813e-04 - mse: 8.5813e-04 - val_loss: 0.0019 - val_mse: 0.0019\n",
      "Epoch 55/100\n",
      "2/2 [==============================] - 0s 75ms/step - loss: 7.8302e-04 - mse: 7.8302e-04 - val_loss: 0.0022 - val_mse: 0.0022\n",
      "Epoch 56/100\n",
      "2/2 [==============================] - 0s 73ms/step - loss: 7.1500e-04 - mse: 7.1500e-04 - val_loss: 0.0025 - val_mse: 0.0025\n",
      "Epoch 57/100\n",
      "2/2 [==============================] - 0s 70ms/step - loss: 6.5584e-04 - mse: 6.5584e-04 - val_loss: 0.0027 - val_mse: 0.0027\n",
      "Epoch 58/100\n",
      "2/2 [==============================] - 0s 70ms/step - loss: 6.0695e-04 - mse: 6.0695e-04 - val_loss: 0.0028 - val_mse: 0.0028\n",
      "Epoch 59/100\n",
      "2/2 [==============================] - 0s 68ms/step - loss: 5.6769e-04 - mse: 5.6769e-04 - val_loss: 0.0031 - val_mse: 0.0031\n",
      "Epoch 60/100\n",
      "2/2 [==============================] - 0s 71ms/step - loss: 5.3592e-04 - mse: 5.3592e-04 - val_loss: 0.0034 - val_mse: 0.0034\n",
      "Epoch 61/100\n",
      "2/2 [==============================] - 0s 79ms/step - loss: 5.0946e-04 - mse: 5.0946e-04 - val_loss: 0.0038 - val_mse: 0.0038\n",
      "Epoch 62/100\n",
      "2/2 [==============================] - 0s 63ms/step - loss: 4.8692e-04 - mse: 4.8692e-04 - val_loss: 0.0042 - val_mse: 0.0042\n",
      "Epoch 63/100\n",
      "2/2 [==============================] - 0s 63ms/step - loss: 4.6748e-04 - mse: 4.6748e-04 - val_loss: 0.0045 - val_mse: 0.0045\n",
      "Epoch 64/100\n",
      "2/2 [==============================] - 0s 63ms/step - loss: 4.5057e-04 - mse: 4.5057e-04 - val_loss: 0.0047 - val_mse: 0.0047\n",
      "Epoch 65/100\n",
      "2/2 [==============================] - 0s 60ms/step - loss: 4.3583e-04 - mse: 4.3583e-04 - val_loss: 0.0049 - val_mse: 0.0049\n",
      "Epoch 66/100\n",
      "2/2 [==============================] - 0s 59ms/step - loss: 4.2318e-04 - mse: 4.2318e-04 - val_loss: 0.0050 - val_mse: 0.0050\n",
      "Epoch 67/100\n",
      "2/2 [==============================] - 0s 60ms/step - loss: 4.1247e-04 - mse: 4.1247e-04 - val_loss: 0.0050 - val_mse: 0.0050\n",
      "Epoch 68/100\n",
      "2/2 [==============================] - 0s 61ms/step - loss: 4.0319e-04 - mse: 4.0319e-04 - val_loss: 0.0050 - val_mse: 0.0050\n",
      "Epoch 69/100\n",
      "2/2 [==============================] - 0s 64ms/step - loss: 3.9461e-04 - mse: 3.9461e-04 - val_loss: 0.0051 - val_mse: 0.0051\n",
      "Epoch 70/100\n",
      "2/2 [==============================] - 0s 67ms/step - loss: 3.8624e-04 - mse: 3.8624e-04 - val_loss: 0.0052 - val_mse: 0.0052\n",
      "Epoch 71/100\n",
      "2/2 [==============================] - 0s 80ms/step - loss: 3.7800e-04 - mse: 3.7800e-04 - val_loss: 0.0052 - val_mse: 0.0052\n",
      "Epoch 72/100\n",
      "2/2 [==============================] - 0s 70ms/step - loss: 3.7015e-04 - mse: 3.7015e-04 - val_loss: 0.0053 - val_mse: 0.0053\n",
      "Epoch 73/100\n",
      "2/2 [==============================] - 0s 83ms/step - loss: 3.6293e-04 - mse: 3.6293e-04 - val_loss: 0.0052 - val_mse: 0.0052\n",
      "Epoch 74/100\n",
      "2/2 [==============================] - 0s 62ms/step - loss: 3.5652e-04 - mse: 3.5652e-04 - val_loss: 0.0052 - val_mse: 0.0052\n",
      "Epoch 75/100\n",
      "2/2 [==============================] - 0s 60ms/step - loss: 3.5091e-04 - mse: 3.5091e-04 - val_loss: 0.0051 - val_mse: 0.0051\n",
      "Epoch 76/100\n",
      "2/2 [==============================] - 0s 59ms/step - loss: 3.4595e-04 - mse: 3.4595e-04 - val_loss: 0.0050 - val_mse: 0.0050\n",
      "Epoch 77/100\n",
      "2/2 [==============================] - 0s 60ms/step - loss: 3.4139e-04 - mse: 3.4139e-04 - val_loss: 0.0049 - val_mse: 0.0049\n",
      "Epoch 78/100\n",
      "2/2 [==============================] - 0s 60ms/step - loss: 3.3699e-04 - mse: 3.3699e-04 - val_loss: 0.0049 - val_mse: 0.0049\n",
      "Epoch 79/100\n",
      "2/2 [==============================] - 0s 74ms/step - loss: 3.3260e-04 - mse: 3.3260e-04 - val_loss: 0.0048 - val_mse: 0.0048\n",
      "Epoch 80/100\n",
      "2/2 [==============================] - 0s 91ms/step - loss: 3.2826e-04 - mse: 3.2826e-04 - val_loss: 0.0047 - val_mse: 0.0047\n",
      "Epoch 81/100\n",
      "2/2 [==============================] - 0s 75ms/step - loss: 3.2407e-04 - mse: 3.2407e-04 - val_loss: 0.0047 - val_mse: 0.0047\n",
      "Epoch 82/100\n",
      "2/2 [==============================] - 0s 64ms/step - loss: 3.2017e-04 - mse: 3.2017e-04 - val_loss: 0.0046 - val_mse: 0.0046\n",
      "Epoch 83/100\n",
      "2/2 [==============================] - 0s 75ms/step - loss: 3.1660e-04 - mse: 3.1660e-04 - val_loss: 0.0045 - val_mse: 0.0045\n",
      "Epoch 84/100\n",
      "2/2 [==============================] - 0s 70ms/step - loss: 3.1337e-04 - mse: 3.1337e-04 - val_loss: 0.0045 - val_mse: 0.0045\n",
      "Epoch 85/100\n",
      "2/2 [==============================] - 0s 61ms/step - loss: 3.1040e-04 - mse: 3.1040e-04 - val_loss: 0.0044 - val_mse: 0.0044\n",
      "Epoch 86/100\n",
      "2/2 [==============================] - 0s 64ms/step - loss: 3.0761e-04 - mse: 3.0761e-04 - val_loss: 0.0043 - val_mse: 0.0043\n",
      "Epoch 87/100\n",
      "2/2 [==============================] - 0s 61ms/step - loss: 3.0491e-04 - mse: 3.0491e-04 - val_loss: 0.0043 - val_mse: 0.0043\n",
      "Epoch 88/100\n",
      "2/2 [==============================] - 0s 61ms/step - loss: 3.0228e-04 - mse: 3.0228e-04 - val_loss: 0.0042 - val_mse: 0.0042\n",
      "Epoch 89/100\n",
      "2/2 [==============================] - 0s 62ms/step - loss: 2.9972e-04 - mse: 2.9972e-04 - val_loss: 0.0042 - val_mse: 0.0042\n",
      "Epoch 90/100\n",
      "2/2 [==============================] - 0s 62ms/step - loss: 2.9727e-04 - mse: 2.9727e-04 - val_loss: 0.0041 - val_mse: 0.0041\n",
      "Epoch 91/100\n",
      "2/2 [==============================] - 0s 60ms/step - loss: 2.9496e-04 - mse: 2.9496e-04 - val_loss: 0.0041 - val_mse: 0.0041\n",
      "Epoch 92/100\n",
      "2/2 [==============================] - 0s 59ms/step - loss: 2.9280e-04 - mse: 2.9280e-04 - val_loss: 0.0040 - val_mse: 0.0040\n",
      "Epoch 93/100\n",
      "2/2 [==============================] - 0s 62ms/step - loss: 2.9078e-04 - mse: 2.9078e-04 - val_loss: 0.0040 - val_mse: 0.0040\n",
      "Epoch 94/100\n",
      "2/2 [==============================] - 0s 62ms/step - loss: 2.8885e-04 - mse: 2.8885e-04 - val_loss: 0.0039 - val_mse: 0.0039\n",
      "Epoch 95/100\n",
      "2/2 [==============================] - 0s 61ms/step - loss: 2.8698e-04 - mse: 2.8698e-04 - val_loss: 0.0039 - val_mse: 0.0039\n",
      "Epoch 96/100\n",
      "2/2 [==============================] - 0s 61ms/step - loss: 2.8514e-04 - mse: 2.8514e-04 - val_loss: 0.0038 - val_mse: 0.0038\n",
      "Epoch 97/100\n",
      "2/2 [==============================] - 0s 61ms/step - loss: 2.8333e-04 - mse: 2.8333e-04 - val_loss: 0.0038 - val_mse: 0.0038\n",
      "Epoch 98/100\n",
      "2/2 [==============================] - 0s 65ms/step - loss: 2.8156e-04 - mse: 2.8156e-04 - val_loss: 0.0038 - val_mse: 0.0038\n",
      "Epoch 99/100\n",
      "2/2 [==============================] - 0s 57ms/step - loss: 2.7985e-04 - mse: 2.7985e-04 - val_loss: 0.0037 - val_mse: 0.0037\n",
      "Epoch 100/100\n",
      "2/2 [==============================] - 0s 62ms/step - loss: 2.7820e-04 - mse: 2.7820e-04 - val_loss: 0.0037 - val_mse: 0.0037\n"
     ]
    },
    {
     "data": {
      "text/plain": "<keras.callbacks.History at 0x1bf35358d90>"
     },
     "execution_count": 279,
     "metadata": {},
     "output_type": "execute_result"
    }
   ],
   "source": [
    "model.fit(train_ds, epochs=100, validation_data=valid_ds)"
   ],
   "metadata": {
    "collapsed": false
   }
  },
  {
   "cell_type": "code",
   "execution_count": 280,
   "outputs": [
    {
     "name": "stdout",
     "output_type": "stream",
     "text": [
      "1/1 [==============================] - 2s 2s/step\n",
      "0 [426.27671022]\n",
      "1/1 [==============================] - 0s 32ms/step\n",
      "1 [429.60953813]\n",
      "1/1 [==============================] - 0s 30ms/step\n",
      "2 [433.74678641]\n",
      "1/1 [==============================] - 0s 28ms/step\n",
      "3 [438.40620607]\n",
      "1/1 [==============================] - 0s 28ms/step\n",
      "4 [443.77705699]\n",
      "1/1 [==============================] - 0s 35ms/step\n",
      "5 [450.0087158]\n",
      "1/1 [==============================] - 0s 35ms/step\n",
      "6 [454.36126186]\n",
      "1/1 [==============================] - 0s 27ms/step\n",
      "7 [459.12840227]\n",
      "1/1 [==============================] - 0s 26ms/step\n",
      "8 [464.04282333]\n",
      "1/1 [==============================] - 0s 34ms/step\n",
      "9 [468.91392373]\n",
      "1/1 [==============================] - 0s 36ms/step\n",
      "10 [473.47902486]\n",
      "1/1 [==============================] - 0s 40ms/step\n",
      "11 [477.43699006]\n",
      "1/1 [==============================] - 0s 38ms/step\n",
      "12 [481.3298605]\n",
      "1/1 [==============================] - 0s 33ms/step\n",
      "13 [484.9955041]\n",
      "1/1 [==============================] - 0s 33ms/step\n",
      "14 [488.34210551]\n",
      "1/1 [==============================] - 0s 37ms/step\n",
      "15 [491.32785318]\n",
      "1/1 [==============================] - 0s 38ms/step\n",
      "16 [493.98147982]\n",
      "1/1 [==============================] - 0s 31ms/step\n",
      "17 [496.40925698]\n",
      "1/1 [==============================] - 0s 31ms/step\n",
      "18 [498.57307397]\n",
      "1/1 [==============================] - 0s 28ms/step\n",
      "19 [500.47320628]\n",
      "1/1 [==============================] - 0s 31ms/step\n",
      "20 [502.13260174]\n",
      "1/1 [==============================] - 0s 32ms/step\n",
      "21 [503.58602946]\n",
      "1/1 [==============================] - 0s 31ms/step\n",
      "22 [504.8633001]\n",
      "1/1 [==============================] - 0s 37ms/step\n",
      "23 [505.97113272]\n",
      "1/1 [==============================] - 0s 36ms/step\n",
      "24 [506.9269538]\n",
      "1/1 [==============================] - 0s 35ms/step\n",
      "25 [507.75132777]\n",
      "1/1 [==============================] - 0s 30ms/step\n",
      "26 [508.4631423]\n",
      "1/1 [==============================] - 0s 36ms/step\n",
      "27 [509.07664996]\n",
      "1/1 [==============================] - 0s 28ms/step\n",
      "28 [509.60252222]\n",
      "1/1 [==============================] - 0s 32ms/step\n",
      "29 [510.05262826]\n",
      "1/1 [==============================] - 0s 30ms/step\n",
      "30 [510.43804674]\n",
      "1/1 [==============================] - 0s 31ms/step\n",
      "31 [510.76804785]\n",
      "1/1 [==============================] - 0s 29ms/step\n",
      "32 [511.05006926]\n",
      "1/1 [==============================] - 0s 38ms/step\n",
      "33 [511.2906025]\n",
      "1/1 [==============================] - 0s 36ms/step\n",
      "34 [511.49574382]\n",
      "1/1 [==============================] - 0s 27ms/step\n",
      "35 [511.67073915]\n",
      "1/1 [==============================] - 0s 30ms/step\n",
      "36 [511.81994808]\n",
      "1/1 [==============================] - 0s 31ms/step\n",
      "37 [511.94696371]\n",
      "1/1 [==============================] - 0s 31ms/step\n",
      "38 [512.05510366]\n",
      "1/1 [==============================] - 0s 28ms/step\n",
      "39 [512.14717053]\n",
      "1/1 [==============================] - 0s 35ms/step\n",
      "40 [512.22552379]\n",
      "1/1 [==============================] - 0s 33ms/step\n",
      "41 [512.29222346]\n",
      "1/1 [==============================] - 0s 33ms/step\n",
      "42 [512.34894633]\n",
      "1/1 [==============================] - 0s 28ms/step\n",
      "43 [512.39714161]\n",
      "1/1 [==============================] - 0s 32ms/step\n",
      "44 [512.43819862]\n",
      "1/1 [==============================] - 0s 28ms/step\n",
      "45 [512.47311145]\n",
      "1/1 [==============================] - 0s 36ms/step\n",
      "46 [512.50275442]\n",
      "1/1 [==============================] - 0s 27ms/step\n",
      "47 [512.52798987]\n",
      "1/1 [==============================] - 0s 31ms/step\n",
      "48 [512.54941664]\n",
      "1/1 [==============================] - 0s 28ms/step\n",
      "49 [512.56763359]\n"
     ]
    }
   ],
   "source": [
    "plt_x = []\n",
    "plt_y = []\n",
    "\n",
    "data_normed_w_forecast = data_normed\n",
    "\n",
    "for i in range(50):\n",
    "    new_forecast_series = data_normed_w_forecast[-n_past:]\n",
    "    pred = model.predict(new_forecast_series.reshape(n_future,1)[np.newaxis])\n",
    "\n",
    "    plt_x.append(len(data_normed) + i)\n",
    "    plt_y.append(unnormalize(pred[:,0], data.min(axis=0), data.max(axis=0)))\n",
    "\n",
    "    print(i, unnormalize(pred[:,0], data.min(axis=0), data.max(axis=0)))\n",
    "\n",
    "    data_normed_w_forecast = np.concatenate((data_normed_w_forecast, pred[:, 0]), axis=None)"
   ],
   "metadata": {
    "collapsed": false
   }
  },
  {
   "cell_type": "code",
   "execution_count": 281,
   "outputs": [
    {
     "data": {
      "text/plain": "<Figure size 640x480 with 1 Axes>",
      "image/png": "[encoded data removed]"
     },
     "metadata": {},
     "output_type": "display_data"
    }
   ],
   "source": [
    "plt.plot(unnormalize(data_normed, data.min(axis=0), data.max(axis=0)),\n",
    "         label='actual')  # our val was taken as subset of the normaized data so we need to unnormalize it here\n",
    "# plt.plot(unnormalize(pred[0][0], data.min(axis=0), data.max(axis=0)), label='prediction')\n",
    "\n",
    "plt.plot(plt_x, plt_y, label = 'prediction')\n",
    "\n",
    "plt.legend()\n",
    "plt.title('PPM')\n",
    "plt.show()"
   ],
   "metadata": {
    "collapsed": false
   }
  },
  {
   "cell_type": "code",
   "execution_count": 281,
   "outputs": [],
   "source": [],
   "metadata": {
    "collapsed": false
   }
  },
  {
   "cell_type": "code",
   "execution_count": 281,
   "outputs": [],
   "source": [],
   "metadata": {
    "collapsed": false
   }
  },
  {
   "cell_type": "code",
   "execution_count": 282,
   "outputs": [
    {
     "name": "stdout",
     "output_type": "stream",
     "text": [
      "2/2 [==============================] - 1s 24ms/step\n"
     ]
    },
    {
     "data": {
      "text/plain": "array([0.06704473, 0.08508381, 0.09657023, 0.09614456, 0.11299863],\n      dtype=float32)"
     },
     "execution_count": 282,
     "metadata": {},
     "output_type": "execute_result"
    }
   ],
   "source": [
    "preds = model.predict(windowed_dataset(data_normed, batch_size, n_past, n_future, shift))\n",
    "preds[0]"
   ],
   "metadata": {
    "collapsed": false
   }
  },
  {
   "cell_type": "code",
   "execution_count": 283,
   "outputs": [
    {
     "data": {
      "text/plain": "array([[512.56763359, 518.92752968, 544.64600944, 554.35987277,\n        534.99830683]])"
     },
     "execution_count": 283,
     "metadata": {},
     "output_type": "execute_result"
    }
   ],
   "source": [
    "unnormalize(pred, data.min(axis=0), data.max(axis=0))"
   ],
   "metadata": {
    "collapsed": false
   }
  },
  {
   "cell_type": "code",
   "execution_count": 284,
   "outputs": [],
   "source": [
    "preds_unnormed = unnormalize(preds, data.min(axis=0), data.max(axis=0))"
   ],
   "metadata": {
    "collapsed": false
   }
  },
  {
   "cell_type": "code",
   "execution_count": 285,
   "outputs": [
    {
     "name": "stdout",
     "output_type": "stream",
     "text": [
      "(54, 5)\n",
      "[322.71598452 323.35716644 323.9203589  324.49537113 325.06760021\n",
      " 325.72284307 326.49387168 327.46145413 328.35089442 329.31302586\n",
      " 330.41497031 331.4116403  332.43181956 333.59024284 334.78938479\n",
      " 335.71670521 336.90964758 338.30510534 339.9297781  341.48865844\n",
      " 343.05941544 344.70100415 346.24318113 347.84677894 349.52938275\n",
      " 351.25116319 352.9884957  354.79737856 356.72911207 358.55954447\n",
      " 359.94673662 361.21473111 362.52401016 363.93046126 365.59005434\n",
      " 367.71457494 369.91992802 372.05127549 374.17499962 376.56395347\n",
      " 378.56278189 380.64792824 383.08498155 385.73221848 388.37302379\n",
      " 390.81149038 393.3433473  395.77589128 398.15253282 400.56488964\n",
      " 403.12258086 405.83624798 408.44873977 411.34188759]\n",
      "(54,)\n"
     ]
    }
   ],
   "source": [
    "print(preds_unnormed.shape)\n",
    "print(preds_unnormed[:, 0])\n",
    "print(preds_unnormed[:, 0].shape)"
   ],
   "metadata": {
    "collapsed": false
   }
  }
 ],
 "metadata": {
  "kernelspec": {
   "display_name": "Python 3",
   "language": "python",
   "name": "python3"
  },
  "language_info": {
   "codemirror_mode": {
    "name": "ipython",
    "version": 2
   },
   "file_extension": ".py",
   "mimetype": "text/x-python",
   "name": "python",
   "nbconvert_exporter": "python",
   "pygments_lexer": "ipython2",
   "version": "2.7.6"
  }
 },
 "nbformat": 4,
 "nbformat_minor": 0
}
