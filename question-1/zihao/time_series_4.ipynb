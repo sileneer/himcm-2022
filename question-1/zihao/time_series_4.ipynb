{
 "cells": [
  {
   "cell_type": "code",
   "execution_count": 13,
   "metadata": {
    "collapsed": true
   },
   "outputs": [],
   "source": [
    "import numpy as np\n",
    "import pandas as pd\n",
    "import matplotlib.pyplot as plt\n",
    "import tensorflow as tf\n",
    "import keras_tuner as kt\n",
    "\n",
    "import tensorflow as tf\n",
    "import numpy as np\n",
    "import pandas as pd\n",
    "import matplotlib.pyplot as plt\n",
    "from tensorflow.keras.models import Model\n",
    "from tensorflow.keras.layers import *\n",
    "from sklearn.preprocessing import MinMaxScaler"
   ]
  },
  {
   "cell_type": "code",
   "execution_count": 14,
   "outputs": [],
   "source": [
    "# Load the data\n",
    "df = pd.read_csv('data_co2 - Copy.csv', names=['Year', 'PPM'], skiprows=1)"
   ],
   "metadata": {
    "collapsed": false
   }
  },
  {
   "cell_type": "code",
   "execution_count": 15,
   "outputs": [],
   "source": [
    "def sliding_window(data, seq_length):\n",
    "    x = []\n",
    "    y = []\n",
    "\n",
    "    for i in range(len(data)-seq_length-1):\n",
    "        _x = data[i:(i+seq_length)]\n",
    "        _y = data[i+seq_length]\n",
    "        x.append(_x)\n",
    "        y.append(_y)\n",
    "\n",
    "    return np.array(x),np.array(y)"
   ],
   "metadata": {
    "collapsed": false
   }
  },
  {
   "cell_type": "code",
   "execution_count": 19,
   "outputs": [],
   "source": [
    "df = pd.read_csv('data_co2.csv', names=['Year', 'PPM'], skiprows=1)\n",
    "dataset = df"
   ],
   "metadata": {
    "collapsed": false
   }
  },
  {
   "cell_type": "code",
   "execution_count": 21,
   "outputs": [
    {
     "ename": "NameError",
     "evalue": "name 'input_size' is not defined",
     "output_type": "error",
     "traceback": [
      "\u001B[1;31m---------------------------------------------------------------------------\u001B[0m",
      "\u001B[1;31mNameError\u001B[0m                                 Traceback (most recent call last)",
      "Cell \u001B[1;32mIn [21], line 20\u001B[0m\n\u001B[0;32m     17\u001B[0m hidden_size \u001B[38;5;241m=\u001B[39m \u001B[38;5;241m5\u001B[39m\n\u001B[0;32m     19\u001B[0m \u001B[38;5;66;03m# inputs: A 3D tensor with shape [batch, timesteps, feature].\u001B[39;00m\n\u001B[1;32m---> 20\u001B[0m X_train \u001B[38;5;241m=\u001B[39m np\u001B[38;5;241m.\u001B[39mreshape(X_train, (X_train\u001B[38;5;241m.\u001B[39mshape[\u001B[38;5;241m0\u001B[39m], timesteps, \u001B[43minput_size\u001B[49m))\n\u001B[0;32m     21\u001B[0m X_test \u001B[38;5;241m=\u001B[39m np\u001B[38;5;241m.\u001B[39mreshape(X_test, (X_test\u001B[38;5;241m.\u001B[39mshape[\u001B[38;5;241m0\u001B[39m], timesteps, \u001B[38;5;241m1\u001B[39m, input_size))\n",
      "\u001B[1;31mNameError\u001B[0m: name 'input_size' is not defined"
     ]
    }
   ],
   "source": [
    "sc = MinMaxScaler()\n",
    "dataset = sc.fit_transform(dataset)\n",
    "\n",
    "timesteps = 4\n",
    "X,y = sliding_window(dataset, timesteps)\n",
    "\n",
    "train_size = int(len(y) * 0.67)\n",
    "test_size = int(len(y)) - train_size\n",
    "\n",
    "X_train = X[0:train_size]\n",
    "y_train = y[0:train_size]\n",
    "\n",
    "X_test = X[train_size:len(X)]\n",
    "y_test = y[train_size:len(y)]\n",
    "\n",
    "feature = 1\n",
    "hidden_size = 5\n",
    "\n",
    "# inputs: A 3D tensor with shape [batch, timesteps, feature].\n",
    "X_train = np.reshape(X_train, (X_train.shape[0], timesteps, input_size))\n",
    "X_test = np.reshape(X_test, (X_test.shape[0], timesteps, 1, input_size))"
   ],
   "metadata": {
    "collapsed": false
   }
  },
  {
   "cell_type": "code",
   "execution_count": null,
   "outputs": [],
   "source": [],
   "metadata": {
    "collapsed": false,
    "pycharm": {
     "is_executing": true
    }
   }
  },
  {
   "cell_type": "code",
   "execution_count": 8,
   "outputs": [],
   "source": [],
   "metadata": {
    "collapsed": false
   }
  }
 ],
 "metadata": {
  "kernelspec": {
   "display_name": "Python 3",
   "language": "python",
   "name": "python3"
  },
  "language_info": {
   "codemirror_mode": {
    "name": "ipython",
    "version": 2
   },
   "file_extension": ".py",
   "mimetype": "text/x-python",
   "name": "python",
   "nbconvert_exporter": "python",
   "pygments_lexer": "ipython2",
   "version": "2.7.6"
  }
 },
 "nbformat": 4,
 "nbformat_minor": 0
}
